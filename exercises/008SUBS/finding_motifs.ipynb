{
 "cells": [
  {
   "cell_type": "code",
   "execution_count": 2,
   "metadata": {},
   "outputs": [],
   "source": [
    "import numpy as np"
   ]
  },
  {
   "cell_type": "code",
   "execution_count": 4,
   "metadata": {},
   "outputs": [],
   "source": [
    "with open(\"rosalind_subs.txt\", \"r\") as rf:\n",
    "    seq = rf.readline()[:-1:]\n",
    "    subseq = rf.readline()[:-1:]\n",
    "\n",
    "\n",
    "loc = np.empty((1, 0))\n",
    "for x in range(0, len(seq)):\n",
    "\n",
    "    if seq[x:x+len(subseq)] == subseq:\n",
    "        loc = np.append(loc, str(x+1))\n",
    "\n",
    "\n",
    "with open(\"motif_indexes.txt\", \"w\") as wf:\n",
    "    wf.write(\" \".join(loc))"
   ]
  },
  {
   "cell_type": "code",
   "execution_count": 5,
   "metadata": {},
   "outputs": [
    {
     "ename": "AttributeError",
     "evalue": "'numpy.ndarray' object has no attribute 'append'",
     "output_type": "error",
     "traceback": [
      "\u001b[1;31m---------------------------------------------------------------------------\u001b[0m",
      "\u001b[1;31mAttributeError\u001b[0m                            Traceback (most recent call last)",
      "Cell \u001b[1;32mIn[5], line 7\u001b[0m\n\u001b[0;32m      3\u001b[0m     rep \u001b[38;5;241m+\u001b[39m\u001b[38;5;241m=\u001b[39m \u001b[38;5;124m\"\u001b[39m\u001b[38;5;124mN\u001b[39m\u001b[38;5;124m\"\u001b[39m\n\u001b[0;32m      6\u001b[0m \u001b[38;5;28;01mwhile\u001b[39;00m subseq \u001b[38;5;129;01min\u001b[39;00m seq:\n\u001b[1;32m----> 7\u001b[0m     \u001b[43mloc\u001b[49m\u001b[38;5;241;43m.\u001b[39;49m\u001b[43mappend\u001b[49m(seq\u001b[38;5;241m.\u001b[39mindex(subseq)\u001b[38;5;241m+\u001b[39m\u001b[38;5;241m1\u001b[39m)\n\u001b[0;32m      8\u001b[0m     seq\u001b[38;5;241m.\u001b[39mreplace(subseq, rep)\n",
      "\u001b[1;31mAttributeError\u001b[0m: 'numpy.ndarray' object has no attribute 'append'"
     ]
    }
   ],
   "source": [
    "rep = str()\n",
    "for n in range(0, len(subseq)):\n",
    "    rep += \"N\"\n",
    "\n",
    "\n",
    "while subseq in seq:\n",
    "    loc.append(seq.index(subseq)+1)\n",
    "    seq.replace(subseq, rep)\n"
   ]
  }
 ],
 "metadata": {
  "kernelspec": {
   "display_name": "base",
   "language": "python",
   "name": "python3"
  },
  "language_info": {
   "codemirror_mode": {
    "name": "ipython",
    "version": 3
   },
   "file_extension": ".py",
   "mimetype": "text/x-python",
   "name": "python",
   "nbconvert_exporter": "python",
   "pygments_lexer": "ipython3",
   "version": "3.10.13"
  },
  "orig_nbformat": 4
 },
 "nbformat": 4,
 "nbformat_minor": 2
}
