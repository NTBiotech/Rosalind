{
 "cells": [
  {
   "cell_type": "code",
   "execution_count": 1,
   "metadata": {},
   "outputs": [],
   "source": [
    "with open(\"rosalind_revc.txt\", \"r\") as rf:\n",
    "    with open(\"reverse_complement_dna.txt\", \"w\") as wf:\n",
    "        dna = rf.read()\n",
    "        reverse_dna = dna[::-1]\n",
    "        reverse_complement_dna = \"\"\n",
    "        for base in reverse_dna:\n",
    "            if base == \"G\":\n",
    "                reverse_complement_dna += \"C\"\n",
    "            elif base == \"A\":\n",
    "                reverse_complement_dna += \"T\"\n",
    "            elif base == \"T\":\n",
    "                reverse_complement_dna += \"A\"\n",
    "            elif base == \"C\":\n",
    "                reverse_complement_dna += \"G\"\n",
    "        wf.write(reverse_complement_dna)"
   ]
  }
 ],
 "metadata": {
  "kernelspec": {
   "display_name": "base",
   "language": "python",
   "name": "python3"
  },
  "language_info": {
   "codemirror_mode": {
    "name": "ipython",
    "version": 3
   },
   "file_extension": ".py",
   "mimetype": "text/x-python",
   "name": "python",
   "nbconvert_exporter": "python",
   "pygments_lexer": "ipython3",
   "version": "3.10.9"
  },
  "orig_nbformat": 4
 },
 "nbformat": 4,
 "nbformat_minor": 2
}
