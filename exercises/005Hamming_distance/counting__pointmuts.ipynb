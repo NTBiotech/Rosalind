{
 "cells": [
  {
   "cell_type": "code",
   "execution_count": 35,
   "metadata": {},
   "outputs": [],
   "source": [
    "with open(\"rosalind_hamm.txt\", \"r\") as rf:\n",
    "    seq1 = rf.readline()\n",
    "    seq2 = rf.readline()\n",
    "    seq1 = seq1[0:-1]\n",
    "Hamm = 0\n",
    "for base in seq1:\n",
    "    if base not in \"GATC\":\n",
    "        break\n",
    "    if base != seq2[seq1.index(base)]:\n",
    "        Hamm += 1\n",
    "    seq1 = seq1[1::]\n",
    "    seq2 = seq2[1::]\n",
    "with open(\"hamming_dictance.txt\", \"w\") as wf:\n",
    "    wf.write(str(Hamm))"
   ]
  },
  {
   "cell_type": "code",
   "execution_count": null,
   "metadata": {},
   "outputs": [],
   "source": []
  }
 ],
 "metadata": {
  "kernelspec": {
   "display_name": "base",
   "language": "python",
   "name": "python3"
  },
  "language_info": {
   "codemirror_mode": {
    "name": "ipython",
    "version": 3
   },
   "file_extension": ".py",
   "mimetype": "text/x-python",
   "name": "python",
   "nbconvert_exporter": "python",
   "pygments_lexer": "ipython3",
   "version": "3.10.9"
  },
  "orig_nbformat": 4
 },
 "nbformat": 4,
 "nbformat_minor": 2
}
