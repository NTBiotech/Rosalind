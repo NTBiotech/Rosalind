{
 "cells": [
  {
   "cell_type": "code",
   "execution_count": null,
   "metadata": {},
   "outputs": [],
   "source": [
    "#https://rosalind.info/problems/mrna/"
   ]
  },
  {
   "cell_type": "code",
   "execution_count": null,
   "metadata": {},
   "outputs": [],
   "source": [
    "with open(\"rosalind_mrna.txt\", \"r\") as rf:\n",
    "    data = rf.read()\n",
    "data[:100]"
   ]
  },
  {
   "cell_type": "code",
   "execution_count": null,
   "metadata": {},
   "outputs": [],
   "source": [
    "data = data.split(\"\\n\")\n",
    "data = \"\".join(data)\n",
    "data += \"s\" #appending s for stop-codon\n",
    "data = list(data)\n",
    "data[:100]"
   ]
  },
  {
   "cell_type": "code",
   "execution_count": null,
   "metadata": {},
   "outputs": [],
   "source": [
    "codon_table = {\"UUU\":\"F\",\n",
    "               \"UUC\":\"F\",\n",
    "               \"UUA\":\"L\",\n",
    "               \"UUG\":\"L\",\n",
    "               \"UUG\":\"L\",\n",
    "               \"UCU\":\"S\",\n",
    "               \"UCC\":\"S\",\n",
    "               \"UCA\":\"S\",\n",
    "               \"UCG\":\"S\",\n",
    "               \"UAU\":\"Y\",\n",
    "               \"UAC\":\"Y\",\n",
    "               \"UAA\":\"s\",\n",
    "               \"UAG\":\"s\",\n",
    "               \"UGU\":\"C\",\n",
    "               \"UGC\":\"C\",\n",
    "               \"UGA\":\"s\",\n",
    "               \"UGG\":\"W\",\n",
    "               \"CUU\":\"L\",\n",
    "               \"CUC\":\"L\",\n",
    "               \"CUA\":\"L\",\n",
    "               \"CUG\":\"L\",\n",
    "               \"CCU\":\"P\",\n",
    "               \"CCC\":\"P\",\n",
    "               \"CCA\":\"P\",\n",
    "               \"CCG\":\"P\",\n",
    "               \"CAU\":\"H\",\n",
    "               \"CAC\":\"H\",\n",
    "               \"CAA\":\"Q\",\n",
    "               \"CAG\":\"Q\",\n",
    "               \"CGU\":\"R\",\n",
    "               \"CGC\":\"R\",\n",
    "               \"CGA\":\"R\",\n",
    "               \"CGG\":\"R\",\n",
    "               \"AUU\":\"I\",\n",
    "               \"AUC\":\"I\",\n",
    "               \"AUA\":\"I\",\n",
    "               \"AUG\":\"M\",\n",
    "               \"ACU\":\"T\",\n",
    "               \"ACC\":\"T\",\n",
    "               \"ACA\":\"T\",\n",
    "               \"ACG\":\"T\",\n",
    "               \"AAU\":\"N\",\n",
    "               \"AAC\":\"N\",\n",
    "               \"AAA\":\"K\",\n",
    "               \"AAG\":\"K\",\n",
    "               \"AGU\":\"S\",\n",
    "               \"AGC\":\"S\",\n",
    "               \"AGA\":\"R\",\n",
    "               \"AGG\":\"R\",\n",
    "               \"GUU\":\"V\",\n",
    "               \"GUC\":\"V\",\n",
    "               \"GUA\":\"V\",\n",
    "               \"GUG\":\"V\",\n",
    "               \"GCU\":\"A\",\n",
    "               \"GCC\":\"A\",\n",
    "               \"GCA\":\"A\",\n",
    "               \"GCG\":\"A\",\n",
    "               \"GAU\":\"D\",\n",
    "               \"GAC\":\"D\",\n",
    "               \"GAA\":\"E\",\n",
    "               \"GAG\":\"E\",\n",
    "               \"GGU\":\"G\",\n",
    "               \"GGC\":\"G\",\n",
    "               \"GGA\":\"G\",\n",
    "               \"GGG\":\"G\",\n",
    "}"
   ]
  },
  {
   "cell_type": "code",
   "execution_count": null,
   "metadata": {},
   "outputs": [],
   "source": [
    "#number of variants for each aminoacid\n",
    "AAs = set(codon_table.values())\n",
    "codon_variants = {k: 0 for k in AAs}\n",
    "\n",
    "for codon, AA in codon_table.items():\n",
    "    codon_variants[AA] += 1 \n",
    "codon_variants"
   ]
  },
  {
   "cell_type": "code",
   "execution_count": null,
   "metadata": {},
   "outputs": [],
   "source": [
    "data"
   ]
  },
  {
   "cell_type": "code",
   "execution_count": null,
   "metadata": {},
   "outputs": [],
   "source": [
    "def num_of_rna(protein):\n",
    "    variants = 1\n",
    "    n = 1000000\n",
    "    '''AA_counts = {k: data.count(k) for k in set(data)}\n",
    "    \n",
    "    \n",
    "    for AA, count in AA_counts.items():\n",
    "        variants *= codon_variants[AA]**count %n\n",
    "'''\n",
    "    for AA in data:\n",
    "        variants *= codon_variants[AA]%n\n",
    "    return(variants%n)"
   ]
  },
  {
   "cell_type": "code",
   "execution_count": null,
   "metadata": {},
   "outputs": [],
   "source": [
    "with open(\"MRNA_res.txt\", \"w\") as wf:\n",
    "    wf.write(str(num_of_rna(data)))"
   ]
  }
 ],
 "metadata": {
  "kernelspec": {
   "display_name": "base",
   "language": "python",
   "name": "python3"
  },
  "language_info": {
   "codemirror_mode": {
    "name": "ipython",
    "version": 3
   },
   "file_extension": ".py",
   "mimetype": "text/x-python",
   "name": "python",
   "nbconvert_exporter": "python",
   "pygments_lexer": "ipython3",
   "version": "3.10.13"
  }
 },
 "nbformat": 4,
 "nbformat_minor": 2
}
