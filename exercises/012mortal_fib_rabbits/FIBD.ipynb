{
 "cells": [
  {
   "cell_type": "code",
   "execution_count": 55,
   "metadata": {},
   "outputs": [
    {
     "ename": "SyntaxError",
     "evalue": "invalid syntax (3814674321.py, line 4)",
     "output_type": "error",
     "traceback": [
      "\u001b[1;36m  Cell \u001b[1;32mIn[55], line 4\u001b[1;36m\u001b[0m\n\u001b[1;33m    from \"C:\\Users\\Nicolas\\Documents\\Scripts\\Repositories\\Rosalind\\exercises\\010FIB\\fibonacci.ipynb\" import FIB\u001b[0m\n\u001b[1;37m         ^\u001b[0m\n\u001b[1;31mSyntaxError\u001b[0m\u001b[1;31m:\u001b[0m invalid syntax\n"
     ]
    }
   ],
   "source": [
    "import numpy as np\n",
    "#https://rosalind.info/problems/fibd/\n",
    "#We assume that m is greater than 1. So the rabbits can produce offspring."
   ]
  },
  {
   "cell_type": "code",
   "execution_count": 27,
   "metadata": {},
   "outputs": [],
   "source": [
    "with open(\"FIBD_dat.txt\", \"r\") as rf:\n",
    "    dat = rf.read()"
   ]
  },
  {
   "cell_type": "code",
   "execution_count": 30,
   "metadata": {},
   "outputs": [
    {
     "data": {
      "text/plain": [
       "(6, 3)"
      ]
     },
     "execution_count": 30,
     "metadata": {},
     "output_type": "execute_result"
    }
   ],
   "source": [
    "dat_list = dat.split(\" \")\n",
    "n = int(dat_list[0])\n",
    "m = int(dat_list[-1])\n",
    "n, m"
   ]
  },
  {
   "cell_type": "code",
   "execution_count": 49,
   "metadata": {},
   "outputs": [
    {
     "name": "stdout",
     "output_type": "stream",
     "text": [
      "[1, 1]\n"
     ]
    }
   ],
   "source": [
    "def FIBD(N, M):\n",
    "    FIB = [1, 1]\n",
    "    Aim = np.array((1, M))\n",
    "    Off = 0\n",
    "    for i in range(2, N):\n",
    "        for m in range(-1, -np.shape(Aim)[-1]):\n",
    "            Off = sum(Aim[0, 1:])\n",
    "            Aim[m] = Aim[m-1]\n",
    "            Aim[0]= Off\n",
    "            FIB.append(sum(Aim))\n",
    "    return FIB\n",
    "\n",
    "print(FIBD(n,m))"
   ]
  }
 ],
 "metadata": {
  "kernelspec": {
   "display_name": "base",
   "language": "python",
   "name": "python3"
  },
  "language_info": {
   "codemirror_mode": {
    "name": "ipython",
    "version": 3
   },
   "file_extension": ".py",
   "mimetype": "text/x-python",
   "name": "python",
   "nbconvert_exporter": "python",
   "pygments_lexer": "ipython3",
   "version": "3.10.13"
  }
 },
 "nbformat": 4,
 "nbformat_minor": 2
}
