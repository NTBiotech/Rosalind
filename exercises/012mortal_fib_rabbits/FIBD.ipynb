{
 "cells": [
  {
   "cell_type": "code",
   "execution_count": 88,
   "metadata": {},
   "outputs": [],
   "source": [
    "import numpy as np\n",
    "#https://rosalind.info/problems/fibd/\n",
    "#We assume that m is greater than 1. So the rabbits can produce offspring."
   ]
  },
  {
   "cell_type": "code",
   "execution_count": 89,
   "metadata": {},
   "outputs": [],
   "source": [
    "with open(\"rosalind_fibd.txt\", \"r\") as rf:\n",
    "    dat = rf.read()"
   ]
  },
  {
   "cell_type": "code",
   "execution_count": 90,
   "metadata": {},
   "outputs": [
    {
     "data": {
      "text/plain": [
       "(88, 16)"
      ]
     },
     "execution_count": 90,
     "metadata": {},
     "output_type": "execute_result"
    }
   ],
   "source": [
    "dat_list = dat.split(\" \")\n",
    "n = int(dat_list[0])\n",
    "m = int(dat_list[-1])\n",
    "n, m"
   ]
  },
  {
   "cell_type": "code",
   "execution_count": 91,
   "metadata": {},
   "outputs": [],
   "source": [
    "def FIBD(N, M):\n",
    "    fibd = [1]\n",
    "    Aim = [1]\n",
    "    for i in range(1, N):\n",
    "        # print(f\"i={i}\")\n",
    "        Off = sum(Aim[1:])\n",
    "        if i<M:\n",
    "            Aim.append(Aim[-1])\n",
    "        for m in range(len(Aim)-1, 0, -1):\n",
    "            # print(f\"m={m}\")\n",
    "            Aim[m] = Aim[m-1]\n",
    "        Aim[0]= Off\n",
    "        fibd.append(sum(Aim))\n",
    "        # print(f\"fibd={fibd}\")\n",
    "                    \n",
    "    return fibd"
   ]
  },
  {
   "cell_type": "code",
   "execution_count": 92,
   "metadata": {},
   "outputs": [],
   "source": [
    "with open('FIBD_res.txt', \"w\") as wf:\n",
    "    wf.write(str(FIBD(n, m)[-1]))"
   ]
  }
 ],
 "metadata": {
  "kernelspec": {
   "display_name": "base",
   "language": "python",
   "name": "python3"
  },
  "language_info": {
   "codemirror_mode": {
    "name": "ipython",
    "version": 3
   },
   "file_extension": ".py",
   "mimetype": "text/x-python",
   "name": "python",
   "nbconvert_exporter": "python",
   "pygments_lexer": "ipython3",
   "version": "3.10.13"
  }
 },
 "nbformat": 4,
 "nbformat_minor": 2
}
