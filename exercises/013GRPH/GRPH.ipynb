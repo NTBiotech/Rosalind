{
 "cells": [
  {
   "cell_type": "code",
   "execution_count": 40,
   "metadata": {},
   "outputs": [],
   "source": [
    "import numpy as np\n",
    "import pandas as pd"
   ]
  },
  {
   "cell_type": "code",
   "execution_count": 41,
   "metadata": {},
   "outputs": [],
   "source": [
    "with open(\"rosalind_grph.txt\", \"r\") as rf:\n",
    "    rawdata = rf.read()"
   ]
  },
  {
   "cell_type": "code",
   "execution_count": 42,
   "metadata": {},
   "outputs": [],
   "source": [
    "def readfasta(data):\n",
    "    data = data.split(\">\")[1:]\n",
    "    formatted_data = list()\n",
    "    for sequence in data:\n",
    "        sequence = sequence.split(\"\\n\")\n",
    "        sequence_title = sequence[0]\n",
    "        sequense_data = \"\".join(sequence[1:])\n",
    "        formatted_data.append((sequence_title, sequense_data))\n",
    "    return formatted_data"
   ]
  },
  {
   "cell_type": "code",
   "execution_count": 43,
   "metadata": {},
   "outputs": [
    {
     "data": {
      "text/plain": [
       "[('Rosalind_0498', 'AAATAAAAAATAAA'),\n",
       " ('Rosalind_2391', 'AAATTTT'),\n",
       " ('Rosalind_2323', 'TTTTCCC'),\n",
       " ('Rosalind_0442', 'AAATCCC'),\n",
       " ('Rosalind_5013', 'GGGTGGG')]"
      ]
     },
     "execution_count": 43,
     "metadata": {},
     "output_type": "execute_result"
    }
   ],
   "source": [
    "data = readfasta(rawdata)\n",
    "k = 3\n",
    "data"
   ]
  },
  {
   "cell_type": "code",
   "execution_count": 46,
   "metadata": {},
   "outputs": [],
   "source": [
    "def GRPH(data, k):\n",
    "    \n",
    "    adjacency_list = list()\n",
    "\n",
    "    for n in range(0, len(data)):\n",
    "\n",
    "        for i in range(0, len(data)):\n",
    "\n",
    "            if data[n][1][-k:] == data[i][1][:k]:\n",
    "\n",
    "                if i != n:\n",
    "                    \n",
    "                    adjacency_list.append([data[n][0], data[i][0]])\n",
    "\n",
    "    return adjacency_list"
   ]
  },
  {
   "cell_type": "code",
   "execution_count": 56,
   "metadata": {},
   "outputs": [],
   "source": [
    "adjacency_list = GRPH(data, k)"
   ]
  },
  {
   "cell_type": "code",
   "execution_count": 57,
   "metadata": {},
   "outputs": [
    {
     "name": "stdout",
     "output_type": "stream",
     "text": [
      "True\n"
     ]
    }
   ],
   "source": [
    "with open(\"GRPH_res.txt\", \"w\") as wf:\n",
    "    for edge in adjacency_list:\n",
    "        if edge != adjacency_list[-1]:\n",
    "            wf.write(\" \".join(edge) + \"\\n\")\n",
    "        else:\n",
    "            wf.write(\" \".join(edge))\n",
    "            print(\"True\")"
   ]
  }
 ],
 "metadata": {
  "kernelspec": {
   "display_name": "base",
   "language": "python",
   "name": "python3"
  },
  "language_info": {
   "codemirror_mode": {
    "name": "ipython",
    "version": 3
   },
   "file_extension": ".py",
   "mimetype": "text/x-python",
   "name": "python",
   "nbconvert_exporter": "python",
   "pygments_lexer": "ipython3",
   "version": "3.10.13"
  }
 },
 "nbformat": 4,
 "nbformat_minor": 2
}
