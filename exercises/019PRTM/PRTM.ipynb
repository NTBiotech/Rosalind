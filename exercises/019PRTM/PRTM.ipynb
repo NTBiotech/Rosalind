{
 "cells": [
  {
   "cell_type": "markdown",
   "metadata": {},
   "source": [
    "# Calculating protein mass\n",
    "https://rosalind.info/problems/prtm/"
   ]
  },
  {
   "cell_type": "code",
   "execution_count": 47,
   "metadata": {},
   "outputs": [],
   "source": [
    "import numpy as np\n",
    "import json"
   ]
  },
  {
   "cell_type": "code",
   "execution_count": 48,
   "metadata": {},
   "outputs": [
    {
     "data": {
      "text/plain": [
       "'#create protein_mass table\\nwith open(\"protein_masses.txt\", \"r\") as rf:\\n    # print(rf.read())\\n    raw = np.array(rf.read().split(\"\\n\"))\\n    AA_masses = dict([(x.split(\"   \")[0], float(x.split(\"   \")[-1])) for x in raw])\\n    json.dump( AA_masses, open( \"AA_masses.json\", \\'w\\' ) )'"
      ]
     },
     "execution_count": 48,
     "metadata": {},
     "output_type": "execute_result"
    }
   ],
   "source": [
    "'''#create protein_mass table\n",
    "with open(\"protein_masses.txt\", \"r\") as rf:\n",
    "    # print(rf.read())\n",
    "    raw = np.array(rf.read().split(\"\\n\"))\n",
    "    AA_masses = dict([(x.split(\"   \")[0], float(x.split(\"   \")[-1])) for x in raw])\n",
    "    json.dump( AA_masses, open( \"AA_masses.json\", 'w' ) )'''"
   ]
  },
  {
   "cell_type": "code",
   "execution_count": 49,
   "metadata": {},
   "outputs": [],
   "source": [
    "AA_masses = json.load(open(\"AA_masses.json\"))"
   ]
  },
  {
   "cell_type": "code",
   "execution_count": 50,
   "metadata": {},
   "outputs": [],
   "source": [
    "#import the AA string\n",
    "with open(\"rosalind_prtm.txt\", \"r\") as rf:\n",
    "    raw = rf.read()[:-1]\n",
    "\n",
    "#calculate weight\n",
    "weight = np.round(np.sum([AA_masses[x] for x in raw]), decimals=3)\n"
   ]
  },
  {
   "cell_type": "code",
   "execution_count": 51,
   "metadata": {},
   "outputs": [],
   "source": [
    "#write result\n",
    "with open(\"PRTM_res.txt\", \"w\") as wf:\n",
    "    wf.write(str(weight))"
   ]
  }
 ],
 "metadata": {
  "kernelspec": {
   "display_name": "Python 3",
   "language": "python",
   "name": "python3"
  },
  "language_info": {
   "codemirror_mode": {
    "name": "ipython",
    "version": 3
   },
   "file_extension": ".py",
   "mimetype": "text/x-python",
   "name": "python",
   "nbconvert_exporter": "python",
   "pygments_lexer": "ipython3",
   "version": "3.10.13"
  }
 },
 "nbformat": 4,
 "nbformat_minor": 2
}
