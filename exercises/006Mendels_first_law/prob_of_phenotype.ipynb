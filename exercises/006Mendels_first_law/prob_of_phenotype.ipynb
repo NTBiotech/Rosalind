{
 "cells": [
  {
   "cell_type": "code",
   "execution_count": 29,
   "metadata": {},
   "outputs": [],
   "source": [
    "with open(\"rosalind_iprb.txt\", \"r\") as rf:\n",
    "    num = rf.read()\n",
    "    list = num.split(\" \")\n",
    "    k = int(list[0]) #homozygous dominant\n",
    "    m = int(list[1]) #heterozygous dominant\n",
    "    n = int(list[2]) #homozygous recessive\n",
    "\n",
    "pop = k + n + m\n",
    "def p(x, y, d = False):\n",
    "    if d:\n",
    "        prob1 = x/pop\n",
    "        prob2 = (x-1)/(pop-1)\n",
    "    else:\n",
    "        prob1 = x/pop\n",
    "        prob2 = y/(pop-1)\n",
    "    return prob1 * prob2\n",
    "\n",
    "prob = p(k, k, True) + p(k, m) + p(k, n) + p(m, k) + p(n, k) + 0.75 * p(m, m, True) + 0.5 * p(n, m) + 0.5 * p(m, n)\n",
    "with open(\"probability_phen.txt\", \"w\") as wf:\n",
    "    wf.write(str(prob))"
   ]
  },
  {
   "cell_type": "code",
   "execution_count": 25,
   "metadata": {},
   "outputs": [
    {
     "name": "stdout",
     "output_type": "stream",
     "text": [
      "0.750055574080249\n"
     ]
    }
   ],
   "source": [
    "# first mate:\n",
    "k = 0\n",
    "m = 0\n",
    "n = 0\n",
    "def p(x, y, d = False):\n",
    "    pop = k + n + m\n",
    "    if d:\n",
    "        prob1 = x/pop\n",
    "        prob2 = (x-1)/(pop-1)\n",
    "    else:\n",
    "        prob1 = x/pop\n",
    "        prob2 = y/(pop-1)\n",
    "    return prob1 * prob2\n",
    "\n",
    "prob = p(k, k, True) + p(k, m) + p(k, n) + p(m, k) + p(n, k) + 0.75 * p(m, m, True) + 0.5 * p(n, m) + 0.5 * p(m, n) #prob of >1 dom allele\n",
    "print(prob)"
   ]
  }
 ],
 "metadata": {
  "kernelspec": {
   "display_name": "base",
   "language": "python",
   "name": "python3"
  },
  "language_info": {
   "codemirror_mode": {
    "name": "ipython",
    "version": 3
   },
   "file_extension": ".py",
   "mimetype": "text/x-python",
   "name": "python",
   "nbconvert_exporter": "python",
   "pygments_lexer": "ipython3",
   "version": "3.10.9"
  },
  "orig_nbformat": 4
 },
 "nbformat": 4,
 "nbformat_minor": 2
}
