{
 "cells": [
  {
   "cell_type": "code",
   "execution_count": 6,
   "metadata": {},
   "outputs": [],
   "source": [
    "with open(\"rosalind_dna.txt\", \"r\") as rf:\n",
    "    sequence = rf.read()\n",
    "    G_count = str(sequence.count(\"G\"))\n",
    "    A_count = str(sequence.count(\"A\"))\n",
    "    T_count = str(sequence.count(\"T\"))\n",
    "    C_count = str(sequence.count(\"C\"))\n",
    "    count = A_count +\" \" + C_count + \" \" + G_count + \" \" + T_count\n",
    "with open(\"rosalind_dna_count.txt\", \"w\") as wf:\n",
    "    wf.write(count)"
   ]
  }
 ],
 "metadata": {
  "kernelspec": {
   "display_name": "base",
   "language": "python",
   "name": "python3"
  },
  "language_info": {
   "codemirror_mode": {
    "name": "ipython",
    "version": 3
   },
   "file_extension": ".py",
   "mimetype": "text/x-python",
   "name": "python",
   "nbconvert_exporter": "python",
   "pygments_lexer": "ipython3",
   "version": "3.10.9"
  },
  "orig_nbformat": 4
 },
 "nbformat": 4,
 "nbformat_minor": 2
}
