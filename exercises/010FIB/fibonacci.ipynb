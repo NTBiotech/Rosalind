{
 "cells": [
  {
   "cell_type": "code",
   "execution_count": 16,
   "metadata": {},
   "outputs": [
    {
     "name": "stdout",
     "output_type": "stream",
     "text": [
      "12 1\n"
     ]
    }
   ],
   "source": [
    "with open(\"FIB_data.txt\", \"r\") as rf:\n",
    "    dat = rf.readline()\n",
    "dat = dat.split(\" \")\n",
    "n = int(dat[0])\n",
    "k = int(dat[-1])\n",
    "print(n, k)"
   ]
  },
  {
   "cell_type": "code",
   "execution_count": 17,
   "metadata": {},
   "outputs": [],
   "source": [
    "def fib_num(n, k):\n",
    "    num_1 = 1\n",
    "    num_2 = 1\n",
    "    for i in range(2, n):\n",
    "        num = num_2 * k + num_1\n",
    "        num_2 = num_1\n",
    "        num_1 = num\n",
    "        print(num)\n",
    "    return num\n",
    "        "
   ]
  },
  {
   "cell_type": "code",
   "execution_count": 18,
   "metadata": {},
   "outputs": [
    {
     "name": "stdout",
     "output_type": "stream",
     "text": [
      "2\n",
      "3\n",
      "5\n",
      "8\n",
      "13\n",
      "21\n",
      "34\n",
      "55\n",
      "89\n",
      "144\n",
      "144\n"
     ]
    }
   ],
   "source": [
    "print(fib_num(n, k))"
   ]
  }
 ],
 "metadata": {
  "kernelspec": {
   "display_name": "base",
   "language": "python",
   "name": "python3"
  },
  "language_info": {
   "codemirror_mode": {
    "name": "ipython",
    "version": 3
   },
   "file_extension": ".py",
   "mimetype": "text/x-python",
   "name": "python",
   "nbconvert_exporter": "python",
   "pygments_lexer": "ipython3",
   "version": "3.10.13"
  }
 },
 "nbformat": 4,
 "nbformat_minor": 2
}
