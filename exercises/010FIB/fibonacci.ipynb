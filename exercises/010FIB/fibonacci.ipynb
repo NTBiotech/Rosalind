{
 "cells": [
  {
   "cell_type": "code",
   "execution_count": 21,
   "metadata": {},
   "outputs": [
    {
     "name": "stdout",
     "output_type": "stream",
     "text": [
      "31 5\n"
     ]
    }
   ],
   "source": [
    "with open(\"FIB_dat.txt\", \"r\") as rf:\n",
    "    dat = rf.readline()\n",
    "dat = dat.split(\" \")\n",
    "n = int(dat[0])\n",
    "k = int(dat[-1])\n",
    "print(n, k)"
   ]
  },
  {
   "cell_type": "code",
   "execution_count": 1,
   "metadata": {},
   "outputs": [],
   "source": [
    "def fib_num(n, k):\n",
    "    num_1 = 1\n",
    "    num_2 = 1\n",
    "    for i in range(2, n):\n",
    "        num = num_2 * k + num_1\n",
    "        num_2 = num_1\n",
    "        num_1 = num\n",
    "    return num\n",
    "        "
   ]
  },
  {
   "cell_type": "code",
   "execution_count": 26,
   "metadata": {},
   "outputs": [],
   "source": [
    "with open(\"FIB_res.txt\", \"w\") as rf:\n",
    "    rf.write(str(fib_num(n, k)))"
   ]
  },
  {
   "cell_type": "code",
   "execution_count": null,
   "metadata": {},
   "outputs": [],
   "source": [
    "def FIB(n, k):\n",
    "    num_1 = 1\n",
    "    num_2 = 1\n",
    "    FIB = [1, 1]\n",
    "    for i in range(2, n):\n",
    "        num = num_2 * k + num_1\n",
    "        num_2 = num_1\n",
    "        num_1 = num\n",
    "        FIB.append(num)\n",
    "    return num, FIB"
   ]
  }
 ],
 "metadata": {
  "kernelspec": {
   "display_name": "base",
   "language": "python",
   "name": "python3"
  },
  "language_info": {
   "codemirror_mode": {
    "name": "ipython",
    "version": 3
   },
   "file_extension": ".py",
   "mimetype": "text/x-python",
   "name": "python",
   "nbconvert_exporter": "python",
   "pygments_lexer": "ipython3",
   "version": "3.10.13"
  }
 },
 "nbformat": 4,
 "nbformat_minor": 2
}
