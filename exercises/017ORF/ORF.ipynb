{
 "cells": [
  {
   "cell_type": "markdown",
   "metadata": {},
   "source": [
    "https://rosalind.info/problems/orf/"
   ]
  },
  {
   "cell_type": "code",
   "execution_count": 19,
   "metadata": {},
   "outputs": [],
   "source": [
    "import numpy as np\n",
    "from rosalind_mod import readfasta, Translation\n",
    "data_set = readfasta(r\"rosalind_orf(1).txt\")"
   ]
  },
  {
   "cell_type": "code",
   "execution_count": 20,
   "metadata": {},
   "outputs": [],
   "source": [
    "def find_ORF(data):\n",
    "\n",
    "    stop_codons = [\"UAA\", \"UAG\", \"UGA\"]\n",
    "\n",
    "    reading_frames = np.empty((1, 0))\n",
    "\n",
    "    for seq in [data.RNA, data.RNA_rev_complement]:\n",
    "\n",
    "        for n in range(0, len(seq)):\n",
    "\n",
    "            if seq[n:n+3] == \"AUG\":\n",
    "                for i in range(n+3, len(seq), 3):\n",
    "\n",
    "                    if seq[i:i+3] in stop_codons:\n",
    "                        reading_frames = np.append(reading_frames, seq[n:i])\n",
    "                        break\n",
    "\n",
    "    return reading_frames"
   ]
  },
  {
   "cell_type": "code",
   "execution_count": 21,
   "metadata": {},
   "outputs": [],
   "source": [
    "with open(\"ORF_res.txt\", \"w\") as wf:\n",
    "    for f in data_set:\n",
    "        for n, i in enumerate(set(find_ORF(f))):\n",
    "            wf.write(Translation(i))\n",
    "            if n != len(set(find_ORF(f)))-1:\n",
    "                wf.write(\"\\n\")"
   ]
  }
 ],
 "metadata": {
  "kernelspec": {
   "display_name": "base",
   "language": "python",
   "name": "python3"
  },
  "language_info": {
   "codemirror_mode": {
    "name": "ipython",
    "version": 3
   },
   "file_extension": ".py",
   "mimetype": "text/x-python",
   "name": "python",
   "nbconvert_exporter": "python",
   "pygments_lexer": "ipython3",
   "version": "3.10.13"
  }
 },
 "nbformat": 4,
 "nbformat_minor": 2
}
