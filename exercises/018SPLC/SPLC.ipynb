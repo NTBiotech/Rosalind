{
 "cells": [
  {
   "cell_type": "code",
   "execution_count": 13,
   "metadata": {},
   "outputs": [],
   "source": [
    "import numpy as np\n",
    "from rosalind_mod import readfasta, find_motifs, Transkription, Translation, reverse_complement\n",
    "data = readfasta(r\"C:\\Users\\Nicolas\\Documents\\Scripts\\Repositories\\Rosalind\\exercises\\018SPLC\\rosalind_splc.txt\")"
   ]
  },
  {
   "cell_type": "code",
   "execution_count": 14,
   "metadata": {},
   "outputs": [
    {
     "name": "stdout",
     "output_type": "stream",
     "text": [
      "ATGTCGGCGTTCGCGAAGACGTTTCCCGAGTTCCGGACATTCATGTTCGGACTTTGAACACATACGCCGTTTTCTCAAGGTTTAGATCTAAGAAGAATTCTAAAGGTCTAAAGTGACGGACGTGCGTTGTTATACAATGGGATGAGTGGCCGGGTCACCTGGCACCTTTCATAGGTCTGTCTTCATCTGACAAGGCTAAGCTCTTTGCTCAATTCTCCGCCAGGCGAACGGACCGACCTCGTGAGAACGGCGTGTATACAATCAACATCTTAATACAATCAATCTTCGCTCAGCTCAAGTGGCGCAAATGGCTTCCAGCGGTTCTGTGAACCTGAGATACGCCTGCGATCTGCCGCAAGGCTAGTGCTATCCAGACTCAGAAAAATAGTATATGTAGACAAGCCGTCTTCACATCTTGTCGGGGAGCCTGGTCCCGCCGCCCTATAGGATGTCGTGATGGGAGATTTGCGCACCGAATACTCGTCCAATAGCTTCTATCTTAGAGCGGGCCGACATGTGTTCCCGGTCCTGCATTCAATCACGTTCCCTTTGGCAACCAATCAGTCTCTACAAAAGGACTCCGCTGGACCACCCCAAGCGCTCCTCAACGCTGGTTTGAGTAGGGAAAACTATTATTTTCTCGCGACCGGGTTCCCGTGCGATGTTGCCAAATTCTACGTCCACCTATGGGTTCTTCGAGTTGAAAACATCTAGCGTGTAAACACTCACTCAGTGATACCTTGAGCGAGGCTCCCGGCACGTCGGAGAGATGACTCAGGTAGAAACGGTTGCACGCCCTGGCTTAGGATTTTTCGTACAGGGACGGCTAGTAGTCGTGATAACTCTGCAGTATTGCCTGTGCCTGTTTATTTATGTATCCTACTTGCTCCTATTTATGTGGTGCGGTTACAGAATACACGACCGTTTCCGTAA\n"
     ]
    }
   ],
   "source": [
    "dna = data[0].sequence\n",
    "print(dna)\n",
    "exome = \"\"\n",
    "for fasta in data[1:]:\n",
    "    intron = fasta.sequence\n",
    "    indexes = find_motifs(dna, intron)\n",
    "    for i in indexes:\n",
    "        dna = dna.replace(intron, \"\")\n",
    "\n",
    "protein = Translation((dna.replace(\"T\", \"U\")[:-3]))\n"
   ]
  },
  {
   "cell_type": "code",
   "execution_count": 15,
   "metadata": {},
   "outputs": [],
   "source": [
    "def splicing(rna, introns):\n",
    "\n",
    "    for intron in introns:\n",
    "        indexes = find_motifs(rna, intron)\n",
    "        for i in indexes:\n",
    "            rna = rna.replace(intron, \"\")\n",
    "    return rna"
   ]
  },
  {
   "cell_type": "code",
   "execution_count": 16,
   "metadata": {},
   "outputs": [],
   "source": [
    "protein = Translation((splicing(data[0].sequence, [x.sequence for x in data[1:]]).replace(\"T\", \"U\")[:-3]))\n",
    "with open(\"SPLC_res.txt\", \"w\") as wf:\n",
    "    wf.write(protein)"
   ]
  }
 ],
 "metadata": {
  "kernelspec": {
   "display_name": "base",
   "language": "python",
   "name": "python3"
  },
  "language_info": {
   "codemirror_mode": {
    "name": "ipython",
    "version": 3
   },
   "file_extension": ".py",
   "mimetype": "text/x-python",
   "name": "python",
   "nbconvert_exporter": "python",
   "pygments_lexer": "ipython3",
   "version": "3.10.13"
  }
 },
 "nbformat": 4,
 "nbformat_minor": 2
}
